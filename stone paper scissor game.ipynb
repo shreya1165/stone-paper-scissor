{
 "cells": [
  {
   "cell_type": "code",
   "execution_count": 1,
   "metadata": {},
   "outputs": [
    {
     "name": "stdout",
     "output_type": "stream",
     "text": [
      "You chose :scissor, computer chose:stone\n",
      "you loose, computer wins\n"
     ]
    }
   ],
   "source": [
    "# Rock paper scissor\n",
    "import random\n",
    "\n",
    "user=input(\"enter your choice: (1.stone, 2.paper, 3.scissor)\")\n",
    "if(user=='1'):\n",
    "    user_in='stone'\n",
    "if(user=='2'):\n",
    "    user_in='paper'\n",
    "if(user=='3'):\n",
    "    user_in='scissor'\n",
    "    \n",
    "choices=(\"stone\",\"paper\",\"scissor\")\n",
    "computer=random.choice(choices)\n",
    "\n",
    "#result\n",
    "print(f\"You chose :{user_in}, computer chose:{computer}\")\n",
    "\n",
    "#winner/looser\n",
    "if(user_in==computer):\n",
    "    print(\"its a tie\")\n",
    "if(user_in=='stone'and computer=='scissor'):\n",
    "    print(\"you win, computer loose\")\n",
    "if(user_in=='stone' and computer=='paper'):\n",
    "    print(\"you loose, computer wins\")\n",
    "if(user_in=='paper' and computer=='stone'):\n",
    "    print(\"you win, computer loose\")\n",
    "if(user_in=='paper' and computer=='scissor'):\n",
    "    print(\"you loose, computer wins\")\n",
    "if(user_in=='scissor' and computer=='stone'):\n",
    "    print(\"you loose, computer wins\")\n",
    "if(user_in=='scissor' and computer=='paper'):\n",
    "    print(\"you win, computer loose\")"
   ]
  },
  {
   "cell_type": "code",
   "execution_count": null,
   "metadata": {},
   "outputs": [],
   "source": []
  }
 ],
 "metadata": {
  "kernelspec": {
   "display_name": "Python 3.9.7 ('base')",
   "language": "python",
   "name": "python3"
  },
  "language_info": {
   "codemirror_mode": {
    "name": "ipython",
    "version": 3
   },
   "file_extension": ".py",
   "mimetype": "text/x-python",
   "name": "python",
   "nbconvert_exporter": "python",
   "pygments_lexer": "ipython3",
   "version": "3.9.7"
  },
  "orig_nbformat": 4,
  "vscode": {
   "interpreter": {
    "hash": "b302cdd1e032ee910f5c889c3360c28564c92ad4f326fc3102e39fbe47faee66"
   }
  }
 },
 "nbformat": 4,
 "nbformat_minor": 2
}
